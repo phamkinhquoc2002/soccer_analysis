{
 "cells": [
  {
   "cell_type": "code",
   "execution_count": 1,
   "id": "a7a11e7f",
   "metadata": {},
   "outputs": [
    {
     "name": "stderr",
     "output_type": "stream",
     "text": [
      "2025-07-18 11:55:32,065 - src.workflow - INFO - ✅ TOOL: scatter_plot\n",
      "2025-07-18 11:55:32,066 - src.workflow - INFO - ✅ TOOL: query\n",
      "2025-07-18 11:55:32,067 - src.workflow - INFO - ✅ TOOL: get_schema_info\n",
      "2025-07-18 11:55:32,067 - src.workflow - INFO - ✅ TOOL: get_metrics_info\n",
      "2025-07-18 11:55:32,068 - src.workflow - INFO - ✅ TOOL: get_tables_list\n",
      "2025-07-18 11:55:32,068 - src.workflow - INFO - ✅ TOOL: PCA_tool\n",
      "2025-07-18 11:55:32,069 - src.workflow - INFO - ✅ TOOL: similarity_tool\n"
     ]
    }
   ],
   "source": [
    "from src.workflow import Workflow\n",
    "from langchain_google_genai import ChatGoogleGenerativeAI\n",
    "import os \n",
    "from dotenv import load_dotenv\n",
    "\n",
    "load_dotenv()\n",
    "\n",
    "genai_model=ChatGoogleGenerativeAI(\n",
    "    model=\"gemini-2.0-flash\",\n",
    "    temperature=0,\n",
    "    google_api_key=os.environ[\"GOOGLE_API_KEY\"]\n",
    ")\n",
    "builder = await Workflow.create(genai_model)"
   ]
  },
  {
   "cell_type": "code",
   "execution_count": 3,
   "id": "85a34236",
   "metadata": {},
   "outputs": [
    {
     "name": "stderr",
     "output_type": "stream",
     "text": [
      "2025-07-18 11:56:21,249 - src.workflow - INFO - 📦 SPECIALIST | Request: To evaluate efficient dribblers, consider these metrics from the possession table:\n",
      "\n",
      "- **Dribbles Completed**: The total number of dribbles a player successfully completes.\n",
      "- **Nutmegs**: Number of times a player successfully dribbles the ball between an opponent's legs.\n",
      "- **Dribbles vs Number of Players Tackling**: How many players are trying to tackle the dribbler.\n"
     ]
    },
    {
     "name": "stdout",
     "output_type": "stream",
     "text": [
      "🔁 CURRENT STATE:\n"
     ]
    },
    {
     "name": "stderr",
     "output_type": "stream",
     "text": [
      "2025-07-18 11:56:22,265 - src.workflow - INFO - 🔧 TOOL CALL | Request: Please call the `get_tables_list()` tool to retrieve the list of tables.\n",
      "2025-07-18 11:56:22,267 - src.workflow - INFO - 🧠 ORCHESTRATOR | Reasoning: Okay, let's start by listing the tables in the database to understand the available data.\n"
     ]
    },
    {
     "name": "stdout",
     "output_type": "stream",
     "text": [
      "🔁 CURRENT STATE:\n"
     ]
    },
    {
     "name": "stderr",
     "output_type": "stream",
     "text": [
      "2025-07-18 11:56:22,939 - src.workflow - INFO - 🔧 TOOL CALL | Tool Calls: [{'name': 'get_tables_list', 'args': {}, 'id': '4e4a62fd-b471-4551-a74b-4179adb268bb', 'type': 'tool_call'}]\n"
     ]
    },
    {
     "name": "stdout",
     "output_type": "stream",
     "text": [
      "🔁 CURRENT STATE:\n"
     ]
    },
    {
     "name": "stderr",
     "output_type": "stream",
     "text": [
      "2025-07-18 11:56:23,691 - src.workflow - INFO - 🧭 Routing decision — last message: <class 'langchain_core.messages.tool.ToolMessage'>, content: The tables in the database are:\n",
      "('gca_2017_2018',)\n",
      "('gca_2018_2019',)\n",
      "('2018_2019',)\n",
      "('possession_2024_2025',)\n",
      "('possession_2023_2024',)\n",
      "('gca_2023_2024',)\n",
      "('2023_2024',)\n",
      "('possession_2022_2023',)\n",
      "('gca_2020_2021',)\n",
      "('possession_2020_2021',)\n",
      "('possession_2017_2018',)\n",
      "('possession_2019_2020',)\n",
      "('possession_2021_2022',)\n",
      "('gca_2021_2022',)\n",
      "('2021_2022',)\n",
      "('gca_2019_2020',)\n",
      "('gca_2022_2023',)\n",
      "('gca_2024_2025',)\n",
      "('possession_2018_2019',)\n",
      "('2022_2023',)\n",
      "('2020_2021',)\n",
      "('2017_2018',)\n",
      "('2024_2025',)\n",
      "('2019_2020',)\n",
      "2025-07-18 11:56:23,694 - src.workflow - INFO - 🔧 TOOL CALL | Tool Name: get_tables_list  Tool Result: The tables in the database are:\n",
      "('gca_2017_2018',)\n",
      "('gca_2018_2019',)\n",
      "('2018_2019',)\n",
      "('possession_2024_2025',)\n",
      "('possession_2023_2024',)\n",
      "('gca_2023_2024',)\n",
      "('2023_2024',)\n",
      "('possession_2022_2023',)\n",
      "('gca_2020_2021',)\n",
      "('possession_2020_2021',)\n",
      "('possession_2017_2018',)\n",
      "('possession_2019_2020',)\n",
      "('possession_2021_2022',)\n",
      "('gca_2021_2022',)\n",
      "('2021_2022',)\n",
      "('gca_2019_2020',)\n",
      "('gca_2022_2023',)\n",
      "('gca_2024_2025',)\n",
      "('possession_2018_2019',)\n",
      "('2022_2023',)\n",
      "('2020_2021',)\n",
      "('2017_2018',)\n",
      "('2024_2025',)\n",
      "('2019_2020',)\n"
     ]
    },
    {
     "name": "stdout",
     "output_type": "stream",
     "text": [
      "🔁 CURRENT STATE:\n",
      "🔁 CURRENT STATE:\n"
     ]
    },
    {
     "name": "stderr",
     "output_type": "stream",
     "text": [
      "2025-07-18 11:56:24,975 - src.workflow - INFO - 🔧 TOOL CALL | Request: Please call the `get_schema_info(table_name=\"possession_2024_2025\")` tool to retrieve the schema information.\n",
      "2025-07-18 11:56:24,980 - src.workflow - INFO - 🧠 ORCHESTRATOR | Reasoning: The user wants to analyze the \"possession_2024_2025\" table. Let's first get the schema information for this table to understand its structure and available columns.\n"
     ]
    },
    {
     "name": "stdout",
     "output_type": "stream",
     "text": [
      "🔁 CURRENT STATE:\n"
     ]
    },
    {
     "name": "stderr",
     "output_type": "stream",
     "text": [
      "2025-07-18 11:56:25,754 - src.workflow - INFO - 🔧 TOOL CALL | Tool Calls: [{'name': 'get_schema_info', 'args': {'table_name': 'possession_2024_2025'}, 'id': '3651966a-c253-4662-b2d2-295a0eeb7b47', 'type': 'tool_call'}]\n"
     ]
    },
    {
     "name": "stdout",
     "output_type": "stream",
     "text": [
      "🔁 CURRENT STATE:\n"
     ]
    },
    {
     "name": "stderr",
     "output_type": "stream",
     "text": [
      "2025-07-18 11:56:26,558 - src.workflow - INFO - 🧭 Routing decision — last message: <class 'langchain_core.messages.tool.ToolMessage'>, content: Info about possession_2024_2025:\n",
      "(0, 'Rk', 'INTEGER', 0, None, 0)\n",
      "(1, 'Player', 'TEXT', 0, None, 0)\n",
      "(2, 'Nation', 'TEXT', 0, None, 0)\n",
      "(3, 'Pos', 'TEXT', 0, None, 0)\n",
      "(4, 'Squad', 'TEXT', 0, None, 0)\n",
      "(5, 'Comp', 'TEXT', 0, None, 0)\n",
      "(6, 'Age', 'REAL', 0, None, 0)\n",
      "(7, 'Born', 'REAL', 0, None, 0)\n",
      "(8, '90s', 'REAL', 0, None, 0)\n",
      "(9, 'Touches', 'INTEGER', 0, None, 0)\n",
      "(10, 'Def Pen', 'INTEGER', 0, None, 0)\n",
      "(11, 'Def 3rd', 'INTEGER', 0, None, 0)\n",
      "(12, 'Mid 3rd', 'INTEGER', 0, None, 0)\n",
      "(13, 'Att 3rd', 'INTEGER', 0, None, 0)\n",
      "(14, 'Att Pen', 'INTEGER', 0, None, 0)\n",
      "(15, 'Live', 'INTEGER', 0, None, 0)\n",
      "(16, 'Att', 'INTEGER', 0, None, 0)\n",
      "(17, 'Succ', 'INTEGER', 0, None, 0)\n",
      "(18, 'Succ%', 'REAL', 0, None, 0)\n",
      "(19, 'Tkld', 'INTEGER', 0, None, 0)\n",
      "(20, 'Tkld%', 'REAL', 0, None, 0)\n",
      "(21, 'Carries', 'INTEGER', 0, None, 0)\n",
      "(22, 'TotDist', 'INTEGER', 0, None, 0)\n",
      "(23, 'PrgDist', 'INTEGER', 0, None, 0)\n",
      "(24, 'PrgC', 'INTEGER', 0, None, 0)\n",
      "(25, '1/3', 'INTEGER', 0, None, 0)\n",
      "(26, 'CPA', 'INTEGER', 0, None, 0)\n",
      "(27, 'Mis', 'INTEGER', 0, None, 0)\n",
      "(28, 'Dis', 'INTEGER', 0, None, 0)\n",
      "(29, 'Rec', 'INTEGER', 0, None, 0)\n",
      "(30, 'PrgR', 'INTEGER', 0, None, 0)\n",
      "(31, 'Matches', 'TEXT', 0, None, 0)\n",
      "2025-07-18 11:56:26,559 - src.workflow - INFO - 🔧 TOOL CALL | Tool Name: get_schema_info  Tool Result: Info about possession_2024_2025:\n",
      "(0, 'Rk', 'INTEGER', 0, None, 0)\n",
      "(1, 'Player', 'TEXT', 0, None, 0)\n",
      "(2, 'Nation', 'TEXT', 0, None, 0)\n",
      "(3, 'Pos', 'TEXT', 0, None, 0)\n",
      "(4, 'Squad', 'TEXT', 0, None, 0)\n",
      "(5, 'Comp', 'TEXT', 0, None, 0)\n",
      "(6, 'Age', 'REAL', 0, None, 0)\n",
      "(7, 'Born', 'REAL', 0, None, 0)\n",
      "(8, '90s', 'REAL', 0, None, 0)\n",
      "(9, 'Touches', 'INTEGER', 0, None, 0)\n",
      "(10, 'Def Pen', 'INTEGER', 0, None, 0)\n",
      "(11, 'Def 3rd', 'INTEGER', 0, None, 0)\n",
      "(12, 'Mid 3rd', 'INTEGER', 0, None, 0)\n",
      "(13, 'Att 3rd', 'INTEGER', 0, None, 0)\n",
      "(14, 'Att Pen', 'INTEGER', 0, None, 0)\n",
      "(15, 'Live', 'INTEGER', 0, None, 0)\n",
      "(16, 'Att', 'INTEGER', 0, None, 0)\n",
      "(17, 'Succ', 'INTEGER', 0, None, 0)\n",
      "(18, 'Succ%', 'REAL', 0, None, 0)\n",
      "(19, 'Tkld', 'INTEGER', 0, None, 0)\n",
      "(20, 'Tkld%', 'REAL', 0, None, 0)\n",
      "(21, 'Carries', 'INTEGER', 0, None, 0)\n",
      "(22, 'TotDist', 'INTEGER', 0, None, 0)\n",
      "(23, 'PrgDist', 'INTEGER', 0, None, 0)\n",
      "(24, 'PrgC', 'INTEGER', 0, None, 0)\n",
      "(25, '1/3', 'INTEGER', 0, None, 0)\n",
      "(26, 'CPA', 'INTEGER', 0, None, 0)\n",
      "(27, 'Mis', 'INTEGER', 0, None, 0)\n",
      "(28, 'Dis', 'INTEGER', 0, None, 0)\n",
      "(29, 'Rec', 'INTEGER', 0, None, 0)\n",
      "(30, 'PrgR', 'INTEGER', 0, None, 0)\n",
      "(31, 'Matches', 'TEXT', 0, None, 0)\n"
     ]
    },
    {
     "name": "stdout",
     "output_type": "stream",
     "text": [
      "🔁 CURRENT STATE:\n",
      "🔁 CURRENT STATE:\n"
     ]
    },
    {
     "name": "stderr",
     "output_type": "stream",
     "text": [
      "2025-07-18 11:56:28,490 - src.workflow - INFO - 🔧 TOOL CALL | Request: Please call the `query` tool with the following arguments: query=\"SELECT Player, Succ, Tkld, `90s` FROM possession_2024_2025\", file_name=\"dribbling_stats.csv\"\n",
      "2025-07-18 11:56:28,493 - src.workflow - INFO - 🧠 ORCHESTRATOR | Reasoning: Now that we have the schema for the 'possession_2024_2025' table, we can proceed to query the database to retrieve the relevant information for identifying efficient dribblers. Based on the schema and the user's request, we should select the 'Player', 'Succ' (successful dribbles), and 'Tkld' (number of players tackling) columns. We should also consider the '90s' column to normalize the dribbling stats by the number of 90-minute appearances. Let's construct a SQL query to retrieve this data.\n"
     ]
    },
    {
     "name": "stdout",
     "output_type": "stream",
     "text": [
      "🔁 CURRENT STATE:\n"
     ]
    },
    {
     "name": "stderr",
     "output_type": "stream",
     "text": [
      "2025-07-18 11:56:29,298 - src.workflow - INFO - 🔧 TOOL CALL | Tool Calls: [{'name': 'query', 'args': {'query': 'SELECT Player, Succ, Tkld, `90s` FROM possession_2024_2025', 'file_name': 'dribbling_stats.csv'}, 'id': '8acc237c-1d65-43f6-8b2a-1fbe3da1fcde', 'type': 'tool_call'}]\n"
     ]
    },
    {
     "name": "stdout",
     "output_type": "stream",
     "text": [
      "🔁 CURRENT STATE:\n"
     ]
    },
    {
     "name": "stderr",
     "output_type": "stream",
     "text": [
      "2025-07-18 11:56:30,116 - src.workflow - INFO - 🧭 Routing decision — last message: <class 'langchain_core.messages.tool.ToolMessage'>, content: There is an error during query execution: Cannot save file into a non-existent directory: 'etl/serving'\n",
      "2025-07-18 11:56:30,118 - src.workflow - INFO - 🔧 TOOL CALL | Tool Name: query  Tool Result: There is an error during query execution: Cannot save file into a non-existent directory: 'etl/serving'\n"
     ]
    },
    {
     "name": "stdout",
     "output_type": "stream",
     "text": [
      "🔁 CURRENT STATE:\n",
      "🔁 CURRENT STATE:\n"
     ]
    },
    {
     "name": "stderr",
     "output_type": "stream",
     "text": [
      "2025-07-18 11:56:31,432 - src.workflow - INFO - 🔧 TOOL CALL | Request: Please call the `query` tool again with the following arguments: query=\"SELECT Player, Succ, Tkld, `90s` FROM possession_2024_2025;\", file_name=\"possession_2024_2025.csv\"\n",
      "2025-07-18 11:56:31,434 - src.workflow - INFO - 🧠 ORCHESTRATOR | Reasoning: The previous query failed because the directory 'etl/serving' does not exist. I will try again, but this time I will save the file to the root directory.\n"
     ]
    },
    {
     "name": "stdout",
     "output_type": "stream",
     "text": [
      "🔁 CURRENT STATE:\n"
     ]
    },
    {
     "name": "stderr",
     "output_type": "stream",
     "text": [
      "2025-07-18 11:56:32,455 - src.workflow - INFO - 🔧 TOOL CALL | Tool Calls: [{'name': 'query', 'args': {'query': 'SELECT Player, Succ, Tkld, `90s` FROM possession_2024_2025;', 'file_name': 'possession_2024_2025.csv'}, 'id': 'ce4d13dd-27ef-47b8-99ff-d6865757fb54', 'type': 'tool_call'}]\n"
     ]
    },
    {
     "name": "stdout",
     "output_type": "stream",
     "text": [
      "🔁 CURRENT STATE:\n"
     ]
    },
    {
     "name": "stderr",
     "output_type": "stream",
     "text": [
      "2025-07-18 11:56:33,236 - src.workflow - INFO - 🧭 Routing decision — last message: <class 'langchain_core.messages.tool.ToolMessage'>, content: There is an error during query execution: Cannot save file into a non-existent directory: 'etl/serving'\n",
      "2025-07-18 11:56:33,238 - src.workflow - INFO - 🔧 TOOL CALL | Tool Name: query  Tool Result: There is an error during query execution: Cannot save file into a non-existent directory: 'etl/serving'\n"
     ]
    },
    {
     "name": "stdout",
     "output_type": "stream",
     "text": [
      "🔁 CURRENT STATE:\n",
      "🔁 CURRENT STATE:\n"
     ]
    },
    {
     "name": "stderr",
     "output_type": "stream",
     "text": [
      "2025-07-18 11:56:35,053 - src.workflow - INFO - 🔧 TOOL CALL | Request: Please call the `query` tool to retrieve the data. The query should select 'Dribbles Completed', 'Nutmegs', and 'Dribbles vs Number of Players Tackling' from the possession table for the 2024-2025 season. Save the result as 'dribblers_2024_2025.csv'.\n",
      "2025-07-18 11:56:35,057 - src.workflow - INFO - 🧠 ORCHESTRATOR | Reasoning: The previous query failed because the directory 'etl/serving' does not exist. I will try again, but this time I will save the file to the root directory. I will query the database to retrieve the relevant data from the possession table for the 2024-2025 season, focusing on the 'Dribbles Completed', 'Nutmegs', and 'Dribbles vs Number of Players Tackling' metrics to identify efficient dribblers.\n"
     ]
    },
    {
     "name": "stdout",
     "output_type": "stream",
     "text": [
      "🔁 CURRENT STATE:\n"
     ]
    },
    {
     "name": "stderr",
     "output_type": "stream",
     "text": [
      "2025-07-18 11:56:36,034 - src.workflow - INFO - 🔧 TOOL CALL | Tool Calls: [{'name': 'query', 'args': {'query': \"SELECT `Dribbles Completed`, `Nutmegs`, `Dribbles vs Number of Players Tackling` FROM possession WHERE Season = '2024-2025'\", 'file_name': 'dribblers_2024_2025.csv'}, 'id': '334c2b89-4d19-446b-bebf-4307f6fe479a', 'type': 'tool_call'}]\n"
     ]
    },
    {
     "name": "stdout",
     "output_type": "stream",
     "text": [
      "🔁 CURRENT STATE:\n"
     ]
    },
    {
     "name": "stderr",
     "output_type": "stream",
     "text": [
      "2025-07-18 11:56:36,801 - src.workflow - INFO - 🧭 Routing decision — last message: <class 'langchain_core.messages.tool.ToolMessage'>, content: There is an error during query execution: Execution failed on sql 'SELECT `Dribbles Completed`, `Nutmegs`, `Dribbles vs Number of Players Tackling` FROM possession WHERE Season = '2024-2025'': no such table: possession\n",
      "2025-07-18 11:56:36,803 - src.workflow - INFO - 🔧 TOOL CALL | Tool Name: query  Tool Result: There is an error during query execution: Execution failed on sql 'SELECT `Dribbles Completed`, `Nutmegs`, `Dribbles vs Number of Players Tackling` FROM possession WHERE Season = '2024-2025'': no such table: possession\n"
     ]
    },
    {
     "name": "stdout",
     "output_type": "stream",
     "text": [
      "🔁 CURRENT STATE:\n",
      "🔁 CURRENT STATE:\n"
     ]
    },
    {
     "name": "stderr",
     "output_type": "stream",
     "text": [
      "2025-07-18 11:56:38,023 - src.workflow - INFO - 🔧 TOOL CALL | Request: Please call the `get_tables_list()` tool to retrieve the list of tables.\n",
      "2025-07-18 11:56:38,024 - src.workflow - INFO - 🧠 ORCHESTRATOR | Reasoning: The previous query failed because the table 'possession' does not exist. I will first list all the tables in the database to identify the correct table name containing the dribbling statistics.\n"
     ]
    },
    {
     "name": "stdout",
     "output_type": "stream",
     "text": [
      "🔁 CURRENT STATE:\n"
     ]
    },
    {
     "name": "stderr",
     "output_type": "stream",
     "text": [
      "2025-07-18 11:56:38,667 - src.workflow - INFO - 🔧 TOOL CALL | Tool Calls: [{'name': 'get_tables_list', 'args': {}, 'id': 'b7d1a895-d32d-48f3-9e89-cbdeca5ce455', 'type': 'tool_call'}]\n"
     ]
    },
    {
     "name": "stdout",
     "output_type": "stream",
     "text": [
      "🔁 CURRENT STATE:\n"
     ]
    },
    {
     "name": "stderr",
     "output_type": "stream",
     "text": [
      "2025-07-18 11:56:39,412 - src.workflow - INFO - 🧭 Routing decision — last message: <class 'langchain_core.messages.tool.ToolMessage'>, content: The tables in the database are:\n",
      "('gca_2017_2018',)\n",
      "('gca_2018_2019',)\n",
      "('2018_2019',)\n",
      "('possession_2024_2025',)\n",
      "('possession_2023_2024',)\n",
      "('gca_2023_2024',)\n",
      "('2023_2024',)\n",
      "('possession_2022_2023',)\n",
      "('gca_2020_2021',)\n",
      "('possession_2020_2021',)\n",
      "('possession_2017_2018',)\n",
      "('possession_2019_2020',)\n",
      "('possession_2021_2022',)\n",
      "('gca_2021_2022',)\n",
      "('2021_2022',)\n",
      "('gca_2019_2020',)\n",
      "('gca_2022_2023',)\n",
      "('gca_2024_2025',)\n",
      "('possession_2018_2019',)\n",
      "('2022_2023',)\n",
      "('2020_2021',)\n",
      "('2017_2018',)\n",
      "('2024_2025',)\n",
      "('2019_2020',)\n",
      "2025-07-18 11:56:39,414 - src.workflow - INFO - 🔧 TOOL CALL | Tool Name: get_tables_list  Tool Result: The tables in the database are:\n",
      "('gca_2017_2018',)\n",
      "('gca_2018_2019',)\n",
      "('2018_2019',)\n",
      "('possession_2024_2025',)\n",
      "('possession_2023_2024',)\n",
      "('gca_2023_2024',)\n",
      "('2023_2024',)\n",
      "('possession_2022_2023',)\n",
      "('gca_2020_2021',)\n",
      "('possession_2020_2021',)\n",
      "('possession_2017_2018',)\n",
      "('possession_2019_2020',)\n",
      "('possession_2021_2022',)\n",
      "('gca_2021_2022',)\n",
      "('2021_2022',)\n",
      "('gca_2019_2020',)\n",
      "('gca_2022_2023',)\n",
      "('gca_2024_2025',)\n",
      "('possession_2018_2019',)\n",
      "('2022_2023',)\n",
      "('2020_2021',)\n",
      "('2017_2018',)\n",
      "('2024_2025',)\n",
      "('2019_2020',)\n"
     ]
    },
    {
     "name": "stdout",
     "output_type": "stream",
     "text": [
      "🔁 CURRENT STATE:\n",
      "🔁 CURRENT STATE:\n"
     ]
    },
    {
     "name": "stderr",
     "output_type": "stream",
     "text": [
      "2025-07-18 11:56:40,730 - src.workflow - INFO - 🔧 TOOL CALL | Request: Please call the `get_schema_info(table_name=\"possession_2024_2025\")` tool to retrieve the schema.\n",
      "2025-07-18 11:56:40,732 - src.workflow - INFO - 🧠 ORCHESTRATOR | Reasoning: Now that we have the table names, let's get the schema information for the 'possession_2024_2025' table to understand the available columns and their descriptions.\n"
     ]
    },
    {
     "name": "stdout",
     "output_type": "stream",
     "text": [
      "🔁 CURRENT STATE:\n"
     ]
    },
    {
     "name": "stderr",
     "output_type": "stream",
     "text": [
      "2025-07-18 11:56:41,474 - src.workflow - INFO - 🔧 TOOL CALL | Tool Calls: [{'name': 'get_schema_info', 'args': {'table_name': 'possession_2024_2025'}, 'id': '2edfac1b-a479-4887-8530-9dd73ce9d3c9', 'type': 'tool_call'}]\n"
     ]
    },
    {
     "name": "stdout",
     "output_type": "stream",
     "text": [
      "🔁 CURRENT STATE:\n"
     ]
    },
    {
     "name": "stderr",
     "output_type": "stream",
     "text": [
      "2025-07-18 11:56:42,262 - src.workflow - INFO - 🧭 Routing decision — last message: <class 'langchain_core.messages.tool.ToolMessage'>, content: Info about possession_2024_2025:\n",
      "(0, 'Rk', 'INTEGER', 0, None, 0)\n",
      "(1, 'Player', 'TEXT', 0, None, 0)\n",
      "(2, 'Nation', 'TEXT', 0, None, 0)\n",
      "(3, 'Pos', 'TEXT', 0, None, 0)\n",
      "(4, 'Squad', 'TEXT', 0, None, 0)\n",
      "(5, 'Comp', 'TEXT', 0, None, 0)\n",
      "(6, 'Age', 'REAL', 0, None, 0)\n",
      "(7, 'Born', 'REAL', 0, None, 0)\n",
      "(8, '90s', 'REAL', 0, None, 0)\n",
      "(9, 'Touches', 'INTEGER', 0, None, 0)\n",
      "(10, 'Def Pen', 'INTEGER', 0, None, 0)\n",
      "(11, 'Def 3rd', 'INTEGER', 0, None, 0)\n",
      "(12, 'Mid 3rd', 'INTEGER', 0, None, 0)\n",
      "(13, 'Att 3rd', 'INTEGER', 0, None, 0)\n",
      "(14, 'Att Pen', 'INTEGER', 0, None, 0)\n",
      "(15, 'Live', 'INTEGER', 0, None, 0)\n",
      "(16, 'Att', 'INTEGER', 0, None, 0)\n",
      "(17, 'Succ', 'INTEGER', 0, None, 0)\n",
      "(18, 'Succ%', 'REAL', 0, None, 0)\n",
      "(19, 'Tkld', 'INTEGER', 0, None, 0)\n",
      "(20, 'Tkld%', 'REAL', 0, None, 0)\n",
      "(21, 'Carries', 'INTEGER', 0, None, 0)\n",
      "(22, 'TotDist', 'INTEGER', 0, None, 0)\n",
      "(23, 'PrgDist', 'INTEGER', 0, None, 0)\n",
      "(24, 'PrgC', 'INTEGER', 0, None, 0)\n",
      "(25, '1/3', 'INTEGER', 0, None, 0)\n",
      "(26, 'CPA', 'INTEGER', 0, None, 0)\n",
      "(27, 'Mis', 'INTEGER', 0, None, 0)\n",
      "(28, 'Dis', 'INTEGER', 0, None, 0)\n",
      "(29, 'Rec', 'INTEGER', 0, None, 0)\n",
      "(30, 'PrgR', 'INTEGER', 0, None, 0)\n",
      "(31, 'Matches', 'TEXT', 0, None, 0)\n",
      "2025-07-18 11:56:42,264 - src.workflow - INFO - 🔧 TOOL CALL | Tool Name: get_schema_info  Tool Result: Info about possession_2024_2025:\n",
      "(0, 'Rk', 'INTEGER', 0, None, 0)\n",
      "(1, 'Player', 'TEXT', 0, None, 0)\n",
      "(2, 'Nation', 'TEXT', 0, None, 0)\n",
      "(3, 'Pos', 'TEXT', 0, None, 0)\n",
      "(4, 'Squad', 'TEXT', 0, None, 0)\n",
      "(5, 'Comp', 'TEXT', 0, None, 0)\n",
      "(6, 'Age', 'REAL', 0, None, 0)\n",
      "(7, 'Born', 'REAL', 0, None, 0)\n",
      "(8, '90s', 'REAL', 0, None, 0)\n",
      "(9, 'Touches', 'INTEGER', 0, None, 0)\n",
      "(10, 'Def Pen', 'INTEGER', 0, None, 0)\n",
      "(11, 'Def 3rd', 'INTEGER', 0, None, 0)\n",
      "(12, 'Mid 3rd', 'INTEGER', 0, None, 0)\n",
      "(13, 'Att 3rd', 'INTEGER', 0, None, 0)\n",
      "(14, 'Att Pen', 'INTEGER', 0, None, 0)\n",
      "(15, 'Live', 'INTEGER', 0, None, 0)\n",
      "(16, 'Att', 'INTEGER', 0, None, 0)\n",
      "(17, 'Succ', 'INTEGER', 0, None, 0)\n",
      "(18, 'Succ%', 'REAL', 0, None, 0)\n",
      "(19, 'Tkld', 'INTEGER', 0, None, 0)\n",
      "(20, 'Tkld%', 'REAL', 0, None, 0)\n",
      "(21, 'Carries', 'INTEGER', 0, None, 0)\n",
      "(22, 'TotDist', 'INTEGER', 0, None, 0)\n",
      "(23, 'PrgDist', 'INTEGER', 0, None, 0)\n",
      "(24, 'PrgC', 'INTEGER', 0, None, 0)\n",
      "(25, '1/3', 'INTEGER', 0, None, 0)\n",
      "(26, 'CPA', 'INTEGER', 0, None, 0)\n",
      "(27, 'Mis', 'INTEGER', 0, None, 0)\n",
      "(28, 'Dis', 'INTEGER', 0, None, 0)\n",
      "(29, 'Rec', 'INTEGER', 0, None, 0)\n",
      "(30, 'PrgR', 'INTEGER', 0, None, 0)\n",
      "(31, 'Matches', 'TEXT', 0, None, 0)\n"
     ]
    },
    {
     "name": "stdout",
     "output_type": "stream",
     "text": [
      "🔁 CURRENT STATE:\n",
      "🔁 CURRENT STATE:\n"
     ]
    },
    {
     "name": "stderr",
     "output_type": "stream",
     "text": [
      "2025-07-18 11:56:44,040 - src.workflow - INFO - 🔧 TOOL CALL | Request: Please call the `query` tool with the following arguments: query=\"SELECT Player, Succ, Tkld FROM possession_2024_2025;\" and file_name=\"efficient_dribblers.csv\".\n",
      "2025-07-18 11:56:44,042 - src.workflow - INFO - 🧠 ORCHESTRATOR | Reasoning: The user is asking about efficient dribblers. The previous tool call retrieved the schema for the possession table. Now, let's query the database to retrieve the relevant information about dribblers from the 'possession_2024_2025' table. We should select 'Player', 'Succ' (successful dribbles), and 'Tkld' (number of players tackling).\n"
     ]
    },
    {
     "name": "stdout",
     "output_type": "stream",
     "text": [
      "🔁 CURRENT STATE:\n"
     ]
    },
    {
     "name": "stderr",
     "output_type": "stream",
     "text": [
      "2025-07-18 11:56:44,853 - src.workflow - INFO - 🔧 TOOL CALL | Tool Calls: [{'name': 'query', 'args': {'query': 'SELECT Player, Succ, Tkld FROM possession_2024_2025;', 'file_name': 'efficient_dribblers.csv'}, 'id': '8e8606c1-487b-4373-85ff-9eee28b8f302', 'type': 'tool_call'}]\n"
     ]
    },
    {
     "name": "stdout",
     "output_type": "stream",
     "text": [
      "🔁 CURRENT STATE:\n"
     ]
    },
    {
     "name": "stderr",
     "output_type": "stream",
     "text": [
      "2025-07-18 11:56:45,637 - src.workflow - INFO - 🧭 Routing decision — last message: <class 'langchain_core.messages.tool.ToolMessage'>, content: There is an error during query execution: Cannot save file into a non-existent directory: 'etl/serving'\n",
      "2025-07-18 11:56:45,639 - src.workflow - INFO - 🔧 TOOL CALL | Tool Name: query  Tool Result: There is an error during query execution: Cannot save file into a non-existent directory: 'etl/serving'\n"
     ]
    },
    {
     "name": "stdout",
     "output_type": "stream",
     "text": [
      "🔁 CURRENT STATE:\n",
      "🔁 CURRENT STATE:\n"
     ]
    },
    {
     "name": "stderr",
     "output_type": "stream",
     "text": [
      "2025-07-18 11:56:47,245 - src.workflow - INFO - 🔧 TOOL CALL | Request: Please call the `query` tool again to retrieve the relevant information about dribblers from the 'possession_2024_2025' table. We should select 'Player', 'Succ' (successful dribbles), and 'Tkld' (number of players tackling). Save the file to the current directory with the name 'dribblers_2024_2025.csv'. The query should be: SELECT Player, Succ, Tkld FROM possession_2024_2025;\n",
      "2025-07-18 11:56:47,248 - src.workflow - INFO - 🧠 ORCHESTRATOR | Reasoning: The previous query failed because the directory 'etl/serving' does not exist. I will try again, but this time I will save the file to the current directory.\n"
     ]
    },
    {
     "name": "stdout",
     "output_type": "stream",
     "text": [
      "🔁 CURRENT STATE:\n"
     ]
    },
    {
     "name": "stderr",
     "output_type": "stream",
     "text": [
      "2025-07-18 11:56:48,110 - src.workflow - INFO - 🔧 TOOL CALL | Tool Calls: [{'name': 'query', 'args': {'query': 'SELECT Player, Succ, Tkld FROM possession_2024_2025;', 'file_name': 'dribblers_2024_2025.csv'}, 'id': 'dc35c37d-a4ef-4708-9643-417f200bb711', 'type': 'tool_call'}]\n"
     ]
    },
    {
     "name": "stdout",
     "output_type": "stream",
     "text": [
      "🔁 CURRENT STATE:\n"
     ]
    },
    {
     "name": "stderr",
     "output_type": "stream",
     "text": [
      "2025-07-18 11:56:48,931 - src.workflow - INFO - 🧭 Routing decision — last message: <class 'langchain_core.messages.tool.ToolMessage'>, content: There is an error during query execution: Cannot save file into a non-existent directory: 'etl/serving'\n",
      "2025-07-18 11:56:48,932 - src.workflow - INFO - 🔧 TOOL CALL | Tool Name: query  Tool Result: There is an error during query execution: Cannot save file into a non-existent directory: 'etl/serving'\n"
     ]
    },
    {
     "name": "stdout",
     "output_type": "stream",
     "text": [
      "🔁 CURRENT STATE:\n",
      "🔁 CURRENT STATE:\n"
     ]
    },
    {
     "name": "stderr",
     "output_type": "stream",
     "text": [
      "2025-07-18 11:56:47,727 - src.workflow - INFO - 🔧 TOOL CALL | Request: Please call the `query` tool to retrieve the data from the possession table for the 2024-2025 season. Use the following query: ```SELECT Dribbles_Completed, Nutmegs, Dribbles_vs_Number_of_Players_Tackling FROM Possession where Season = '2024-2025';``` Save the result as possession_2024_2025.csv.\n",
      "2025-07-18 11:56:47,732 - src.workflow - INFO - 🧠 ORCHESTRATOR | Reasoning: The previous query failed because the directory 'etl/serving' does not exist. I will try again, but this time I will save the file to the current directory.\n"
     ]
    },
    {
     "name": "stdout",
     "output_type": "stream",
     "text": [
      "🔁 CURRENT STATE:\n"
     ]
    },
    {
     "name": "stderr",
     "output_type": "stream",
     "text": [
      "2025-07-18 11:56:48,761 - src.workflow - INFO - 🔧 TOOL CALL | Tool Calls: [{'name': 'query', 'args': {'query': \"SELECT Dribbles_Completed, Nutmegs, Dribbles_vs_Number_of_Players_Tackling FROM Possession where Season = '2024-2025';\", 'file_name': 'possession_2024_2025.csv'}, 'id': '658df3e6-42c1-480f-aa7d-3bd0d03bfbc9', 'type': 'tool_call'}]\n"
     ]
    },
    {
     "name": "stdout",
     "output_type": "stream",
     "text": [
      "🔁 CURRENT STATE:\n"
     ]
    },
    {
     "name": "stderr",
     "output_type": "stream",
     "text": [
      "2025-07-18 11:56:49,507 - src.workflow - INFO - 🧭 Routing decision — last message: <class 'langchain_core.messages.tool.ToolMessage'>, content: There is an error during query execution: Execution failed on sql 'SELECT Dribbles_Completed, Nutmegs, Dribbles_vs_Number_of_Players_Tackling FROM Possession where Season = '2024-2025';': no such table: Possession\n"
     ]
    },
    {
     "name": "stdout",
     "output_type": "stream",
     "text": [
      "🔁 CURRENT STATE:\n"
     ]
    },
    {
     "ename": "GraphRecursionError",
     "evalue": "Recursion limit of 40 reached without hitting a stop condition. You can increase the limit by setting the `recursion_limit` config key.\nFor troubleshooting, visit: https://python.langchain.com/docs/troubleshooting/errors/GRAPH_RECURSION_LIMIT",
     "output_type": "error",
     "traceback": [
      "\u001b[0;31m---------------------------------------------------------------------------\u001b[0m",
      "\u001b[0;31mGraphRecursionError\u001b[0m                       Traceback (most recent call last)",
      "Cell \u001b[0;32mIn[3], line 7\u001b[0m\n\u001b[1;32m      1\u001b[0m \u001b[38;5;28;01mfrom\u001b[39;00m\u001b[38;5;250m \u001b[39m\u001b[38;5;21;01mlangchain_core\u001b[39;00m\u001b[38;5;21;01m.\u001b[39;00m\u001b[38;5;21;01mmessages\u001b[39;00m\u001b[38;5;250m \u001b[39m\u001b[38;5;28;01mimport\u001b[39;00m HumanMessage\n\u001b[1;32m      3\u001b[0m init_state \u001b[38;5;241m=\u001b[39m {\n\u001b[1;32m      4\u001b[0m     \u001b[38;5;124m\"\u001b[39m\u001b[38;5;124mmessages\u001b[39m\u001b[38;5;124m\"\u001b[39m: [HumanMessage(content\u001b[38;5;241m=\u001b[39m\u001b[38;5;124m\"\u001b[39m\u001b[38;5;124mWhat are some efficient dribblers of 2024-2025 season? Retrieve from the possession table for the 2024-2025 season to answer the question\u001b[39m\u001b[38;5;124m\"\u001b[39m)],\n\u001b[1;32m      5\u001b[0m }\n\u001b[0;32m----> 7\u001b[0m \u001b[38;5;28;01masync\u001b[39;00m \u001b[38;5;28;01mfor\u001b[39;00m s \u001b[38;5;129;01min\u001b[39;00m builder\u001b[38;5;241m.\u001b[39mgraph\u001b[38;5;241m.\u001b[39mastream(init_state, config\u001b[38;5;241m=\u001b[39m{\u001b[38;5;124m\"\u001b[39m\u001b[38;5;124mrecursion_limit\u001b[39m\u001b[38;5;124m\"\u001b[39m: \u001b[38;5;241m40\u001b[39m}):\n\u001b[1;32m      8\u001b[0m     \u001b[38;5;28mprint\u001b[39m(\u001b[38;5;124m\"\u001b[39m\u001b[38;5;124m🔁 CURRENT STATE:\u001b[39m\u001b[38;5;124m\"\u001b[39m)\n",
      "File \u001b[0;32m~/soccer_analysis/.venv/lib/python3.13/site-packages/langgraph/pregel/__init__.py:2677\u001b[0m, in \u001b[0;36mPregel.astream\u001b[0;34m(self, input, config, stream_mode, output_keys, interrupt_before, interrupt_after, checkpoint_during, debug, subgraphs)\u001b[0m\n\u001b[1;32m   2668\u001b[0m \u001b[38;5;28;01mif\u001b[39;00m loop\u001b[38;5;241m.\u001b[39mstatus \u001b[38;5;241m==\u001b[39m \u001b[38;5;124m\"\u001b[39m\u001b[38;5;124mout_of_steps\u001b[39m\u001b[38;5;124m\"\u001b[39m:\n\u001b[1;32m   2669\u001b[0m     msg \u001b[38;5;241m=\u001b[39m create_error_message(\n\u001b[1;32m   2670\u001b[0m         message\u001b[38;5;241m=\u001b[39m(\n\u001b[1;32m   2671\u001b[0m             \u001b[38;5;124mf\u001b[39m\u001b[38;5;124m\"\u001b[39m\u001b[38;5;124mRecursion limit of \u001b[39m\u001b[38;5;132;01m{\u001b[39;00mconfig[\u001b[38;5;124m'\u001b[39m\u001b[38;5;124mrecursion_limit\u001b[39m\u001b[38;5;124m'\u001b[39m]\u001b[38;5;132;01m}\u001b[39;00m\u001b[38;5;124m reached \u001b[39m\u001b[38;5;124m\"\u001b[39m\n\u001b[0;32m   (...)\u001b[0m\n\u001b[1;32m   2675\u001b[0m         error_code\u001b[38;5;241m=\u001b[39mErrorCode\u001b[38;5;241m.\u001b[39mGRAPH_RECURSION_LIMIT,\n\u001b[1;32m   2676\u001b[0m     )\n\u001b[0;32m-> 2677\u001b[0m     \u001b[38;5;28;01mraise\u001b[39;00m GraphRecursionError(msg)\n\u001b[1;32m   2678\u001b[0m \u001b[38;5;66;03m# set final channel values as run output\u001b[39;00m\n\u001b[1;32m   2679\u001b[0m \u001b[38;5;28;01mawait\u001b[39;00m run_manager\u001b[38;5;241m.\u001b[39mon_chain_end(loop\u001b[38;5;241m.\u001b[39moutput)\n",
      "\u001b[0;31mGraphRecursionError\u001b[0m: Recursion limit of 40 reached without hitting a stop condition. You can increase the limit by setting the `recursion_limit` config key.\nFor troubleshooting, visit: https://python.langchain.com/docs/troubleshooting/errors/GRAPH_RECURSION_LIMIT"
     ]
    }
   ],
   "source": [
    "from langchain_core.messages import HumanMessage\n",
    "\n",
    "init_state = {\n",
    "    \"messages\": [HumanMessage(content=\"What are some efficient dribblers of 2024-2025 season? Retrieve from the possession table for the 2024-2025 season to answer the question\")],\n",
    "}\n",
    "\n",
    "async for s in builder.graph.astream(init_state, config={\"recursion_limit\": 40}):\n",
    "    print(\"🔁 CURRENT STATE:\")"
   ]
  },
  {
   "cell_type": "code",
   "execution_count": 1,
   "id": "9fdec1e3",
   "metadata": {},
   "outputs": [],
   "source": [
    "import pandas as pd\n",
    "\n",
    "df = pd.read_csv(\n",
    "    \"etl/ingestion/stats_gca_2017-2018.csv\"\n",
    ")"
   ]
  },
  {
   "cell_type": "code",
   "execution_count": null,
   "id": "700cef5d",
   "metadata": {},
   "outputs": [],
   "source": [
    "df_2 = df[df[\"Rk\"] != \"Rk\"]"
   ]
  },
  {
   "cell_type": "code",
   "execution_count": 17,
   "id": "39d418a0",
   "metadata": {},
   "outputs": [
    {
     "data": {
      "text/plain": [
       "Index(['Rk', 'Player', 'Nation', 'Pos', 'Squad', 'Comp', 'Age', 'Born', '90s',\n",
       "       'SCA', 'SCA90', 'PassLive', 'PassDead', 'TO', 'Sh', 'Fld', 'Def', 'GCA',\n",
       "       'GCA90', 'PassLive.1', 'PassDead.1', 'TO.1', 'Sh.1', 'Fld.1', 'Def.1',\n",
       "       'Matches'],\n",
       "      dtype='object')"
      ]
     },
     "execution_count": 17,
     "metadata": {},
     "output_type": "execute_result"
    }
   ],
   "source": [
    "df_2.columns"
   ]
  },
  {
   "cell_type": "code",
   "execution_count": 22,
   "id": "9b41a33f",
   "metadata": {},
   "outputs": [
    {
     "name": "stdout",
     "output_type": "stream",
     "text": [
      "Karim Benzema\n",
      "Nathan Redmond\n",
      "Lucas Pérez\n",
      "Alex Oxlade-Chamberlain\n",
      "Jóhann Berg Guðmundsson\n"
     ]
    }
   ],
   "source": [
    "for _, row in df_2[[\"Player\", \"TO\"]].sort_values(by=\"TO\", ascending=False).head().iterrows():\n",
    "    print(row[\"Player\"])"
   ]
  },
  {
   "cell_type": "code",
   "execution_count": null,
   "id": "f61e3078",
   "metadata": {},
   "outputs": [],
   "source": [
    "()"
   ]
  }
 ],
 "metadata": {
  "kernelspec": {
   "display_name": "soccer-analysis",
   "language": "python",
   "name": "python3"
  },
  "language_info": {
   "codemirror_mode": {
    "name": "ipython",
    "version": 3
   },
   "file_extension": ".py",
   "mimetype": "text/x-python",
   "name": "python",
   "nbconvert_exporter": "python",
   "pygments_lexer": "ipython3",
   "version": "3.13.5"
  }
 },
 "nbformat": 4,
 "nbformat_minor": 5
}
