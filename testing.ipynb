{
 "cells": [
  {
   "cell_type": "code",
   "execution_count": 1,
   "id": "a7a11e7f",
   "metadata": {},
   "outputs": [
    {
     "name": "stderr",
     "output_type": "stream",
     "text": [
      "2025-07-18 09:59:19,774 - src.workflow - INFO - ✅ TOOL: scatter_plot\n",
      "2025-07-18 09:59:19,774 - src.workflow - INFO - ✅ TOOL: query\n",
      "2025-07-18 09:59:19,775 - src.workflow - INFO - ✅ TOOL: get_schema_info\n",
      "2025-07-18 09:59:19,775 - src.workflow - INFO - ✅ TOOL: get_metrics_info\n",
      "2025-07-18 09:59:19,776 - src.workflow - INFO - ✅ TOOL: get_tables_list\n",
      "2025-07-18 09:59:19,776 - src.workflow - INFO - ✅ TOOL: PCA_tool\n",
      "2025-07-18 09:59:19,777 - src.workflow - INFO - ✅ TOOL: similarity_tool\n"
     ]
    }
   ],
   "source": [
    "from src.workflow import Workflow\n",
    "from langchain_google_genai import ChatGoogleGenerativeAI\n",
    "import os \n",
    "from dotenv import load_dotenv\n",
    "\n",
    "load_dotenv()\n",
    "\n",
    "genai_model=ChatGoogleGenerativeAI(\n",
    "    model=\"gemini-2.0-flash\",\n",
    "    temperature=0,\n",
    "    google_api_key=os.environ[\"GOOGLE_API_KEY\"]\n",
    ")\n",
    "builder = await Workflow.create(genai_model)"
   ]
  },
  {
   "cell_type": "code",
   "execution_count": null,
   "id": "85a34236",
   "metadata": {},
   "outputs": [
    {
     "name": "stderr",
     "output_type": "stream",
     "text": [
      "2025-07-18 09:59:21,352 - src.workflow - INFO - 📦 SPECIALIST | Request: To measure the efficiency of attackers, consider the following metrics:\n",
      "- **Goals per 90 minutes**: The number of goals a player scores, normalized to per 90 minutes played.\n",
      "- **Non-Penalty Goals per 90 minutes**: The number of non-penalty goals a player scores, normalized to per 90 minutes played.\n",
      "- **Assists per 90 minutes**: The number of assists a player provides, normalized to per 90 minutes played.\n",
      "- **Shots on target percentage**: Percentage of shots that are on target.\n",
      "- **Conversion rate**: Percentage of shots that end up as goals.\n"
     ]
    },
    {
     "name": "stdout",
     "output_type": "stream",
     "text": [
      "🔁 CURRENT STATE:\n",
      "To measure the efficiency of attackers, consider the following metrics:\n",
      "- **Goals per 90 minutes**: The number of goals a player scores, normalized to per 90 minutes played.\n",
      "- **Non-Penalty Goals per 90 minutes**: The number of non-penalty goals a player scores, normalized to per 90 minutes played.\n",
      "- **Assists per 90 minutes**: The number of assists a player provides, normalized to per 90 minutes played.\n",
      "- **Shots on target percentage**: Percentage of shots that are on target.\n",
      "- **Conversion rate**: Percentage of shots that end up as goals.\n"
     ]
    },
    {
     "name": "stderr",
     "output_type": "stream",
     "text": [
      "2025-07-18 09:59:22,469 - src.workflow - INFO - 🔧 TOOL CALL | Request: Please call the `get_tables_list()` tool to retrieve those tables.\n",
      "2025-07-18 09:59:22,470 - src.workflow - INFO - 🧠 ORCHESTRATOR | Reasoning: First, let's inspect the available tables in the database to identify relevant tables for player statistics.\n"
     ]
    },
    {
     "name": "stdout",
     "output_type": "stream",
     "text": [
      "🔁 CURRENT STATE:\n",
      "{\n",
      "  \"tool_call_request\": \"Please call the `get_tables_list()` tool to retrieve those tables.\",\n",
      "  \"reasoning\": \"First, let's inspect the available tables in the database to identify relevant tables for player statistics.\"\n",
      "}\n"
     ]
    },
    {
     "name": "stderr",
     "output_type": "stream",
     "text": [
      "2025-07-18 09:59:23,133 - src.workflow - INFO - 🔧 TOOL CALL | Tool Calls: [{'name': 'get_tables_list', 'args': {}, 'id': 'd78ec1a3-2982-4959-8928-152a39287db5', 'type': 'tool_call'}]\n"
     ]
    },
    {
     "name": "stdout",
     "output_type": "stream",
     "text": [
      "🔁 CURRENT STATE:\n",
      "\n"
     ]
    },
    {
     "name": "stderr",
     "output_type": "stream",
     "text": [
      "2025-07-18 09:59:23,907 - src.workflow - INFO - 🧭 Routing decision — last message: <class 'langchain_core.messages.tool.ToolMessage'>, content: The tables in the database are:\n",
      "('gca_2017_2018',)\n",
      "('gca_2018_2019',)\n",
      "('2018_2019',)\n",
      "('possession_2024_2025',)\n",
      "('possession_2023_2024',)\n",
      "('gca_2023_2024',)\n",
      "('2023_2024',)\n",
      "('possession_2022_2023',)\n",
      "('gca_2020_2021',)\n",
      "('possession_2020_2021',)\n",
      "('possession_2017_2018',)\n",
      "('possession_2019_2020',)\n",
      "('possession_2021_2022',)\n",
      "('gca_2021_2022',)\n",
      "('2021_2022',)\n",
      "('gca_2019_2020',)\n",
      "('gca_2022_2023',)\n",
      "('gca_2024_2025',)\n",
      "('possession_2018_2019',)\n",
      "('2022_2023',)\n",
      "('2020_2021',)\n",
      "('2017_2018',)\n",
      "('2024_2025',)\n",
      "('2019_2020',)\n",
      "2025-07-18 09:59:23,909 - src.workflow - INFO - 🔧 TOOL CALL | Tool Name: get_tables_list  Tool Result: The tables in the database are:\n",
      "('gca_2017_2018',)\n",
      "('gca_2018_2019',)\n",
      "('2018_2019',)\n",
      "('possession_2024_2025',)\n",
      "('possession_2023_2024',)\n",
      "('gca_2023_2024',)\n",
      "('2023_2024',)\n",
      "('possession_2022_2023',)\n",
      "('gca_2020_2021',)\n",
      "('possession_2020_2021',)\n",
      "('possession_2017_2018',)\n",
      "('possession_2019_2020',)\n",
      "('possession_2021_2022',)\n",
      "('gca_2021_2022',)\n",
      "('2021_2022',)\n",
      "('gca_2019_2020',)\n",
      "('gca_2022_2023',)\n",
      "('gca_2024_2025',)\n",
      "('possession_2018_2019',)\n",
      "('2022_2023',)\n",
      "('2020_2021',)\n",
      "('2017_2018',)\n",
      "('2024_2025',)\n",
      "('2019_2020',)\n"
     ]
    },
    {
     "name": "stdout",
     "output_type": "stream",
     "text": [
      "🔁 CURRENT STATE:\n",
      "The tables in the database are:\n",
      "('gca_2017_2018',)\n",
      "('gca_2018_2019',)\n",
      "('2018_2019',)\n",
      "('possession_2024_2025',)\n",
      "('possession_2023_2024',)\n",
      "('gca_2023_2024',)\n",
      "('2023_2024',)\n",
      "('possession_2022_2023',)\n",
      "('gca_2020_2021',)\n",
      "('possession_2020_2021',)\n",
      "('possession_2017_2018',)\n",
      "('possession_2019_2020',)\n",
      "('possession_2021_2022',)\n",
      "('gca_2021_2022',)\n",
      "('2021_2022',)\n",
      "('gca_2019_2020',)\n",
      "('gca_2022_2023',)\n",
      "('gca_2024_2025',)\n",
      "('possession_2018_2019',)\n",
      "('2022_2023',)\n",
      "('2020_2021',)\n",
      "('2017_2018',)\n",
      "('2024_2025',)\n",
      "('2019_2020',)\n",
      "🔁 CURRENT STATE:\n"
     ]
    },
    {
     "ename": "KeyError",
     "evalue": "'messages'",
     "output_type": "error",
     "traceback": [
      "\u001b[0;31m---------------------------------------------------------------------------\u001b[0m",
      "\u001b[0;31mKeyError\u001b[0m                                  Traceback (most recent call last)",
      "Cell \u001b[0;32mIn[2], line 9\u001b[0m\n\u001b[1;32m      7\u001b[0m \u001b[38;5;28;01masync\u001b[39;00m \u001b[38;5;28;01mfor\u001b[39;00m s \u001b[38;5;129;01min\u001b[39;00m builder\u001b[38;5;241m.\u001b[39mgraph\u001b[38;5;241m.\u001b[39mastream(init_state, config\u001b[38;5;241m=\u001b[39m{\u001b[38;5;124m\"\u001b[39m\u001b[38;5;124mrecursion_limit\u001b[39m\u001b[38;5;124m\"\u001b[39m: \u001b[38;5;241m40\u001b[39m}):\n\u001b[1;32m      8\u001b[0m     \u001b[38;5;28mprint\u001b[39m(\u001b[38;5;124m\"\u001b[39m\u001b[38;5;124m🔁 CURRENT STATE:\u001b[39m\u001b[38;5;124m\"\u001b[39m)\n\u001b[0;32m----> 9\u001b[0m     \u001b[38;5;28mprint\u001b[39m(\u001b[43ms\u001b[49m\u001b[43m[\u001b[49m\u001b[38;5;28;43mlist\u001b[39;49m\u001b[43m(\u001b[49m\u001b[43ms\u001b[49m\u001b[38;5;241;43m.\u001b[39;49m\u001b[43mkeys\u001b[49m\u001b[43m(\u001b[49m\u001b[43m)\u001b[49m\u001b[43m)\u001b[49m\u001b[43m[\u001b[49m\u001b[38;5;241;43m0\u001b[39;49m\u001b[43m]\u001b[49m\u001b[43m]\u001b[49m\u001b[43m[\u001b[49m\u001b[38;5;124;43m\"\u001b[39;49m\u001b[38;5;124;43mmessages\u001b[39;49m\u001b[38;5;124;43m\"\u001b[39;49m\u001b[43m]\u001b[49m[\u001b[38;5;241m-\u001b[39m\u001b[38;5;241m1\u001b[39m]\u001b[38;5;241m.\u001b[39mcontent)\n",
      "\u001b[0;31mKeyError\u001b[0m: 'messages'"
     ]
    }
   ],
   "source": [
    "from langchain_core.messages import HumanMessage\n",
    "\n",
    "init_state = {\n",
    "    \"messages\": [HumanMessage(content=\"What are some efficient attackers of 2024-2025 season\")]\n",
    "}\n",
    "\n",
    "async for s in builder.graph.astream(init_state, config={\"recursion_limit\": 40}):\n",
    "    print(\"🔁 CURRENT STATE:\")\n",
    "    print(s)"
   ]
  },
  {
   "cell_type": "code",
   "execution_count": null,
   "id": "9fdec1e3",
   "metadata": {},
   "outputs": [],
   "source": [
    "show_graph(builder.graph)"
   ]
  }
 ],
 "metadata": {
  "kernelspec": {
   "display_name": "soccer-analysis",
   "language": "python",
   "name": "python3"
  },
  "language_info": {
   "codemirror_mode": {
    "name": "ipython",
    "version": 3
   },
   "file_extension": ".py",
   "mimetype": "text/x-python",
   "name": "python",
   "nbconvert_exporter": "python",
   "pygments_lexer": "ipython3",
   "version": "3.13.5"
  }
 },
 "nbformat": 4,
 "nbformat_minor": 5
}
